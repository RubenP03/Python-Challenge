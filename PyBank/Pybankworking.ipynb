{
 "cells": [
  {
   "cell_type": "code",
   "execution_count": 1,
   "metadata": {},
   "outputs": [],
   "source": [
    "import os\n",
    "import csv"
   ]
  },
  {
   "cell_type": "code",
   "execution_count": 4,
   "metadata": {},
   "outputs": [],
   "source": [
    "# Path to csv file\n",
    "path = os.path.join(\"Resources\", \"budget_data.csv\")\n",
    "                    \n",
    "months = []\n",
    "revenue = []"
   ]
  },
  {
   "cell_type": "code",
   "execution_count": 5,
   "metadata": {},
   "outputs": [],
   "source": [
    "# to open and read\n",
    "with open(path,newline=\"\") as infile:\n",
    "    csv = csv.reader(infile , delimiter = \",\")\n",
    "    next(csv)\n",
    "    for row in csv :\n",
    "        months.append(row[0])\n",
    "        revenue.append(int(row[1]))"
   ]
  },
  {
   "cell_type": "code",
   "execution_count": 6,
   "metadata": {},
   "outputs": [],
   "source": [
    "total_months = 0"
   ]
  },
  {
   "cell_type": "code",
   "execution_count": 10,
   "metadata": {},
   "outputs": [],
   "source": [
    "# avg change sum revenue\n",
    "for i in months:\n",
    "    total_months += 1\n",
    "    \n",
    "sum_revenue = round(sum(revenue),2)\n",
    "\n",
    "zipped = zip(revenue[:-1], revenue[1:])\n",
    "\n",
    "def change(x,y) :\n",
    "    return y - x\n",
    "\n",
    "changes = list(map(change, revenue[:-1],revenue[1:]))\n",
    "total_average = round((sum(changes)/len(changes)),2)"
   ]
  },
  {
   "cell_type": "code",
   "execution_count": 11,
   "metadata": {},
   "outputs": [],
   "source": [
    "max_change = max(changes)\n",
    "\n",
    "max_month = months[list(changes).index(max_change) + 1]\n",
    "\n",
    "min_change = min(changes)\n",
    "\n",
    "min_month = months[list(changes).index(min_change) + 1]"
   ]
  },
  {
   "cell_type": "code",
   "execution_count": 21,
   "metadata": {},
   "outputs": [
    {
     "name": "stdout",
     "output_type": "stream",
     "text": [
      "Financial Analysis\n",
      "Total Months: 86\n",
      "Total $ 38382578\n",
      "Average change: $ -2315.12\n",
      "Greatest Increase in Profits: Feb-12 ($1926159)\n",
      "Greatest Decrease in Profits: Sep-13 ($-2196167)\n",
      "\n"
     ]
    }
   ],
   "source": [
    "final_analysis = (f\"Financial Analysis\\n\"\n",
    "# f\"----------\\n\"\n",
    "f\"Total Months: {total_months}\\n\"\n",
    "f\"Total $ {sum_revenue}\\n\"\n",
    "f\"Average change: $ {total_average}\\n\"\n",
    "f\"Greatest Increase in Profits: {max_month} (${max_change})\\n\"\n",
    "f\"Greatest Decrease in Profits: {min_month} (${min_change})\\n\")\n",
    "    \n",
    "print(final_analysis)\n",
    "\n",
    "with open(\"Output.txt\", \"w\") as outfile:\n",
    "    outfile.write(final_analysis)"
   ]
  },
  {
   "cell_type": "code",
   "execution_count": null,
   "metadata": {},
   "outputs": [],
   "source": []
  }
 ],
 "metadata": {
  "kernelspec": {
   "display_name": "PythonData",
   "language": "python",
   "name": "pythondata"
  },
  "language_info": {
   "codemirror_mode": {
    "name": "ipython",
    "version": 3
   },
   "file_extension": ".py",
   "mimetype": "text/x-python",
   "name": "python",
   "nbconvert_exporter": "python",
   "pygments_lexer": "ipython3",
   "version": "3.6.4"
  }
 },
 "nbformat": 4,
 "nbformat_minor": 2
}
